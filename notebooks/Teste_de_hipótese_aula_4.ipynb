{
  "cells": [
    {
      "cell_type": "markdown",
      "metadata": {
        "id": "7uA-0kUNd0Yr"
      },
      "source": [
        "Somos uma ong de animais e queremos incentivar a adoção de pets. Para isso, vamos mostrar um vídeo de animais para as pessoas.\n",
        "Porém, não sabemos o que é mais efetivo: um vídeo de cachorros ou um vídeo de gatos.\n",
        "\n",
        "Por isso, resolvemos rodar um experimento: vamos criar 2 vídeos, um de cachorro e outro de gato. Depois, vamos perguntar as pessoas a probabilidade de que ela adote um animal.\n",
        "\n",
        "*As pessoas desse experimento só verão 1 vídeo cada\n",
        "\n",
        "*Ao final do vídeo perguntamos a elas a probabilidade de que elas adotem um animal\n",
        "\n",
        "*As amostras são aleatorias e sem viéses sistematicos\n",
        "\n",
        "Objetivo:\n",
        "Avaliar qual animal (cachorro ou gato) deve estar\n",
        "em um vídeo de campanha de adoção\n",
        "\n",
        "Experimento:\n",
        "500 pessoas que não possuem animais de estimação assistem aos vídeos\n",
        "de campanha de adoção. Os vídeos são idênticos com exceção dos animais\n",
        "mostrados:\n",
        "\n",
        "- 250 pessoas aleatorizadas para o vídeo com gato\n",
        "- 250 pessoas aleatorizadas para o vídeo com cachorro\n",
        "\n",
        "Resposta:\n",
        "\"Qual a chance de adotar um pet? (0-100)\" depois do vídeo\n",
        "\n",
        "A média de probabilidade de quem ve o vídeo de gato é igual a de cachorro?\n"
      ]
    },
    {
      "cell_type": "markdown",
      "metadata": {
        "id": "OgjtqIkp9lki"
      },
      "source": [
        "# Carregamento das bibliotecas"
      ]
    },
    {
      "cell_type": "code",
      "execution_count": 1,
      "metadata": {
        "id": "mLeQWIuu9oEL"
      },
      "outputs": [],
      "source": [
        "import pandas as pd\n",
        "import numpy as np\n",
        "import seaborn as sns\n",
        "from matplotlib import pyplot as plt"
      ]
    },
    {
      "cell_type": "markdown",
      "metadata": {
        "id": "9Mu4kdIlAHiA"
      },
      "source": [
        "# Análise descritiva do dataframe"
      ]
    },
    {
      "cell_type": "code",
      "execution_count": 2,
      "metadata": {
        "id": "QlkdX31vAQQs"
      },
      "outputs": [],
      "source": [
        "#lendo o arquivo csv\n",
        "df = pd.read_csv(\"C:\\\\Users\\\\vanes\\\\Documents\\\\Vanessa_PED_EBA\\\\github_EBA\\\\EBA-aula04-ParaCasa\\\\data\\\\cachorro_gato.csv\")"
      ]
    },
    {
      "cell_type": "markdown",
      "metadata": {
        "id": "42_9KJ_Ao4Hm"
      },
      "source": [
        "A coluna grupo refere- se se a pessoa viu o video de cachorro ou de gato. 0 é cachorro e 1 é gato.\n",
        "\n",
        "Escore é probabilidade da pessoa adotar um pet após ver o vídeo"
      ]
    },
    {
      "cell_type": "code",
      "execution_count": 3,
      "metadata": {
        "colab": {
          "base_uri": "https://localhost:8080/",
          "height": 424
        },
        "id": "w6_s7DGgcH98",
        "outputId": "1981935b-54a6-4ec3-e3a4-a50c77183145"
      },
      "outputs": [
        {
          "data": {
            "text/html": [
              "<div>\n",
              "<style scoped>\n",
              "    .dataframe tbody tr th:only-of-type {\n",
              "        vertical-align: middle;\n",
              "    }\n",
              "\n",
              "    .dataframe tbody tr th {\n",
              "        vertical-align: top;\n",
              "    }\n",
              "\n",
              "    .dataframe thead th {\n",
              "        text-align: right;\n",
              "    }\n",
              "</style>\n",
              "<table border=\"1\" class=\"dataframe\">\n",
              "  <thead>\n",
              "    <tr style=\"text-align: right;\">\n",
              "      <th></th>\n",
              "      <th>Unnamed: 0</th>\n",
              "      <th>grupo</th>\n",
              "      <th>escore</th>\n",
              "    </tr>\n",
              "  </thead>\n",
              "  <tbody>\n",
              "    <tr>\n",
              "      <th>0</th>\n",
              "      <td>0</td>\n",
              "      <td>1</td>\n",
              "      <td>59.853433</td>\n",
              "    </tr>\n",
              "    <tr>\n",
              "      <th>1</th>\n",
              "      <td>1</td>\n",
              "      <td>0</td>\n",
              "      <td>66.353529</td>\n",
              "    </tr>\n",
              "    <tr>\n",
              "      <th>2</th>\n",
              "      <td>2</td>\n",
              "      <td>1</td>\n",
              "      <td>56.495813</td>\n",
              "    </tr>\n",
              "    <tr>\n",
              "      <th>3</th>\n",
              "      <td>3</td>\n",
              "      <td>0</td>\n",
              "      <td>67.995090</td>\n",
              "    </tr>\n",
              "    <tr>\n",
              "      <th>4</th>\n",
              "      <td>4</td>\n",
              "      <td>1</td>\n",
              "      <td>70.434375</td>\n",
              "    </tr>\n",
              "    <tr>\n",
              "      <th>...</th>\n",
              "      <td>...</td>\n",
              "      <td>...</td>\n",
              "      <td>...</td>\n",
              "    </tr>\n",
              "    <tr>\n",
              "      <th>495</th>\n",
              "      <td>495</td>\n",
              "      <td>0</td>\n",
              "      <td>70.292458</td>\n",
              "    </tr>\n",
              "    <tr>\n",
              "      <th>496</th>\n",
              "      <td>496</td>\n",
              "      <td>0</td>\n",
              "      <td>74.674293</td>\n",
              "    </tr>\n",
              "    <tr>\n",
              "      <th>497</th>\n",
              "      <td>497</td>\n",
              "      <td>1</td>\n",
              "      <td>43.148814</td>\n",
              "    </tr>\n",
              "    <tr>\n",
              "      <th>498</th>\n",
              "      <td>498</td>\n",
              "      <td>0</td>\n",
              "      <td>58.625388</td>\n",
              "    </tr>\n",
              "    <tr>\n",
              "      <th>499</th>\n",
              "      <td>499</td>\n",
              "      <td>0</td>\n",
              "      <td>38.126324</td>\n",
              "    </tr>\n",
              "  </tbody>\n",
              "</table>\n",
              "<p>500 rows × 3 columns</p>\n",
              "</div>"
            ],
            "text/plain": [
              "     Unnamed: 0  grupo     escore\n",
              "0             0      1  59.853433\n",
              "1             1      0  66.353529\n",
              "2             2      1  56.495813\n",
              "3             3      0  67.995090\n",
              "4             4      1  70.434375\n",
              "..          ...    ...        ...\n",
              "495         495      0  70.292458\n",
              "496         496      0  74.674293\n",
              "497         497      1  43.148814\n",
              "498         498      0  58.625388\n",
              "499         499      0  38.126324\n",
              "\n",
              "[500 rows x 3 columns]"
            ]
          },
          "execution_count": 3,
          "metadata": {},
          "output_type": "execute_result"
        }
      ],
      "source": [
        "# vizualizando o dataframe\n",
        "\n",
        "df"
      ]
    },
    {
      "cell_type": "markdown",
      "metadata": {
        "id": "jcEUNPf3nQnL"
      },
      "source": [
        "**Observação!**\n",
        "\n",
        "Antes de iniciarmos nossa análise, há uma coluna no DataFrame chamada \"Unnamed: 0\", como há valores nela contidos, que podem atrapalhar o nosso teste.\n",
        "\n",
        "Como esta coluna em si, não traz nenhuma informação pertinente e trata-se de um índice do nosso dataframe, você pode eliminar esta coluna, e seguir com o teste de hipótese.\n",
        "\n",
        "Se você optar por eliminar essa coluna, basta seguir as etapas:\n",
        "\n",
        "\n",
        "**1** - Elimine a coluna Unnamed: 0"
      ]
    },
    {
      "cell_type": "code",
      "execution_count": 4,
      "metadata": {
        "id": "bplWu_vmpBCP"
      },
      "outputs": [],
      "source": [
        "#Eliminando a coluna Unnamed: 0\n",
        "\n",
        "df = df.drop('Unnamed: 0', axis=1)"
      ]
    },
    {
      "cell_type": "markdown",
      "metadata": {
        "id": "Q5awPq8QtiyQ"
      },
      "source": [
        "**2 -** Verificando se ocorreu tudo certo com a eliminação da coluna 'Unnamed: 0'"
      ]
    },
    {
      "cell_type": "code",
      "execution_count": 5,
      "metadata": {
        "colab": {
          "base_uri": "https://localhost:8080/",
          "height": 206
        },
        "id": "UW2YfKckuQUF",
        "outputId": "2d010c81-8602-45bb-b4d8-f5686e4ac670"
      },
      "outputs": [
        {
          "data": {
            "text/html": [
              "<div>\n",
              "<style scoped>\n",
              "    .dataframe tbody tr th:only-of-type {\n",
              "        vertical-align: middle;\n",
              "    }\n",
              "\n",
              "    .dataframe tbody tr th {\n",
              "        vertical-align: top;\n",
              "    }\n",
              "\n",
              "    .dataframe thead th {\n",
              "        text-align: right;\n",
              "    }\n",
              "</style>\n",
              "<table border=\"1\" class=\"dataframe\">\n",
              "  <thead>\n",
              "    <tr style=\"text-align: right;\">\n",
              "      <th></th>\n",
              "      <th>grupo</th>\n",
              "      <th>escore</th>\n",
              "    </tr>\n",
              "  </thead>\n",
              "  <tbody>\n",
              "    <tr>\n",
              "      <th>0</th>\n",
              "      <td>1</td>\n",
              "      <td>59.853433</td>\n",
              "    </tr>\n",
              "    <tr>\n",
              "      <th>1</th>\n",
              "      <td>0</td>\n",
              "      <td>66.353529</td>\n",
              "    </tr>\n",
              "    <tr>\n",
              "      <th>2</th>\n",
              "      <td>1</td>\n",
              "      <td>56.495813</td>\n",
              "    </tr>\n",
              "    <tr>\n",
              "      <th>3</th>\n",
              "      <td>0</td>\n",
              "      <td>67.995090</td>\n",
              "    </tr>\n",
              "    <tr>\n",
              "      <th>4</th>\n",
              "      <td>1</td>\n",
              "      <td>70.434375</td>\n",
              "    </tr>\n",
              "  </tbody>\n",
              "</table>\n",
              "</div>"
            ],
            "text/plain": [
              "   grupo     escore\n",
              "0      1  59.853433\n",
              "1      0  66.353529\n",
              "2      1  56.495813\n",
              "3      0  67.995090\n",
              "4      1  70.434375"
            ]
          },
          "execution_count": 5,
          "metadata": {},
          "output_type": "execute_result"
        }
      ],
      "source": [
        "#Lendo o dataframe apos o drop\n",
        "\n",
        "df.head()"
      ]
    },
    {
      "cell_type": "markdown",
      "metadata": {
        "id": "ySdzsNw2Fjsf"
      },
      "source": [
        "Queremos entender como os grupos (0: cachorro e 1: gato) se comportam. Portand«to vamos agrupar os dados de acordo com o grupo e calcular as principais estatísticas."
      ]
    },
    {
      "cell_type": "code",
      "execution_count": 6,
      "metadata": {
        "colab": {
          "base_uri": "https://localhost:8080/",
          "height": 175
        },
        "id": "G3vDcWocAihF",
        "outputId": "b695821a-d7d8-473a-ab9a-19cc4b75171e"
      },
      "outputs": [
        {
          "data": {
            "text/html": [
              "<div>\n",
              "<style scoped>\n",
              "    .dataframe tbody tr th:only-of-type {\n",
              "        vertical-align: middle;\n",
              "    }\n",
              "\n",
              "    .dataframe tbody tr th {\n",
              "        vertical-align: top;\n",
              "    }\n",
              "\n",
              "    .dataframe thead tr th {\n",
              "        text-align: left;\n",
              "    }\n",
              "\n",
              "    .dataframe thead tr:last-of-type th {\n",
              "        text-align: right;\n",
              "    }\n",
              "</style>\n",
              "<table border=\"1\" class=\"dataframe\">\n",
              "  <thead>\n",
              "    <tr>\n",
              "      <th></th>\n",
              "      <th colspan=\"8\" halign=\"left\">escore</th>\n",
              "    </tr>\n",
              "    <tr>\n",
              "      <th></th>\n",
              "      <th>count</th>\n",
              "      <th>mean</th>\n",
              "      <th>std</th>\n",
              "      <th>min</th>\n",
              "      <th>25%</th>\n",
              "      <th>50%</th>\n",
              "      <th>75%</th>\n",
              "      <th>max</th>\n",
              "    </tr>\n",
              "    <tr>\n",
              "      <th>grupo</th>\n",
              "      <th></th>\n",
              "      <th></th>\n",
              "      <th></th>\n",
              "      <th></th>\n",
              "      <th></th>\n",
              "      <th></th>\n",
              "      <th></th>\n",
              "      <th></th>\n",
              "    </tr>\n",
              "  </thead>\n",
              "  <tbody>\n",
              "    <tr>\n",
              "      <th>0</th>\n",
              "      <td>253.0</td>\n",
              "      <td>55.531922</td>\n",
              "      <td>14.665402</td>\n",
              "      <td>16.304739</td>\n",
              "      <td>44.488055</td>\n",
              "      <td>55.802372</td>\n",
              "      <td>66.249013</td>\n",
              "      <td>95.309459</td>\n",
              "    </tr>\n",
              "    <tr>\n",
              "      <th>1</th>\n",
              "      <td>247.0</td>\n",
              "      <td>56.744495</td>\n",
              "      <td>14.913287</td>\n",
              "      <td>14.654955</td>\n",
              "      <td>48.682432</td>\n",
              "      <td>56.924405</td>\n",
              "      <td>66.817326</td>\n",
              "      <td>93.259671</td>\n",
              "    </tr>\n",
              "  </tbody>\n",
              "</table>\n",
              "</div>"
            ],
            "text/plain": [
              "      escore                                                         \\\n",
              "       count       mean        std        min        25%        50%   \n",
              "grupo                                                                 \n",
              "0      253.0  55.531922  14.665402  16.304739  44.488055  55.802372   \n",
              "1      247.0  56.744495  14.913287  14.654955  48.682432  56.924405   \n",
              "\n",
              "                             \n",
              "             75%        max  \n",
              "grupo                        \n",
              "0      66.249013  95.309459  \n",
              "1      66.817326  93.259671  "
            ]
          },
          "execution_count": 6,
          "metadata": {},
          "output_type": "execute_result"
        }
      ],
      "source": [
        "# principais estatísticas agrupadas de acordo com o grupo.\n",
        "\n",
        "df.groupby('grupo').describe()"
      ]
    },
    {
      "cell_type": "markdown",
      "metadata": {
        "id": "Vvr-BHwzcaxn"
      },
      "source": [
        "Vemos aqui que a média e mediana do escore de quem viu um vídeo de gato é ligeiramente maior do que quem viu vídeo de cahcorro.\n"
      ]
    },
    {
      "cell_type": "markdown",
      "metadata": {
        "id": "-xJ6rpHwBBfY"
      },
      "source": [
        "### Histograma por grupo\n",
        "\n",
        "Mostrando como está a distribuição de cada um dos grupos"
      ]
    },
    {
      "cell_type": "code",
      "execution_count": 7,
      "metadata": {
        "colab": {
          "base_uri": "https://localhost:8080/",
          "height": 449
        },
        "id": "pNVFq5LXBEjf",
        "outputId": "24278570-2488-420a-e992-4b4fefb86fed"
      },
      "outputs": [
        {
          "data": {
            "image/png": "[encoded data removed]",
            "text/plain": [
              "<Figure size 640x480 with 1 Axes>"
            ]
          },
          "metadata": {},
          "output_type": "display_data"
        }
      ],
      "source": [
        "sns.histplot(df[df['grupo'] == 0]['escore'], label = 'Cachorro', color = \"red\") #histograma grupo que viu o video de cachorro\n",
        "sns.histplot(df[df['grupo'] == 1]['escore'], label = 'Gato', color=\"blue\")  #histograma grupo que viu o video de gato\n",
        "plt.xlabel('Escore (0 a 100)')\n",
        "plt.legend()\n",
        "plt.show()"
      ]
    },
    {
      "cell_type": "markdown",
      "metadata": {
        "id": "av9ddGfDc147"
      },
      "source": [
        "O histograma acima mostra que as distribuições são muito semelhantes. Como ambas seguem aproximadamente uma normal, vamos fazer um teste de hipótese para ver qual média é maior."
      ]
    },
    {
      "cell_type": "markdown",
      "metadata": {
        "id": "Et_ZtwakdCgm"
      },
      "source": [
        "O teste de hipótese escolhido deve ser para média, com 2 amostras independentes (quem viu vídeo de cachorro só viu cachorro e quem viu video de gato só viu de gato).\n",
        "Como não temos o desvio-padrão da população, podemos usar o teste t."
      ]
    },
    {
      "cell_type": "markdown",
      "metadata": {
        "id": "lUY3bH1rDyGZ"
      },
      "source": [
        "# Comparação entre os grupos por teste-t independente"
      ]
    },
    {
      "cell_type": "markdown",
      "metadata": {
        "id": "nuIhJ_gOD9t4"
      },
      "source": [
        "Vamos comparar as médias dos escores dos dois grupos. São estatisticamente diferentes?"
      ]
    },
    {
      "cell_type": "code",
      "execution_count": 8,
      "metadata": {
        "id": "07S63VidD2A2"
      },
      "outputs": [],
      "source": [
        "# Importando a função que realiza o teste-t para amostras independentes\n",
        "\n",
        "from scipy.stats import ttest_ind\n"
      ]
    },
    {
      "cell_type": "code",
      "execution_count": 9,
      "metadata": {
        "colab": {
          "base_uri": "https://localhost:8080/"
        },
        "id": "lIIXqMsWEQcB",
        "outputId": "cc5b71b3-08a6-4145-c1c8-dae4e25fb314"
      },
      "outputs": [
        {
          "data": {
            "text/plain": [
              "TtestResult(statistic=np.float64(-0.9166663411409343), pvalue=np.float64(0.35976119585131083), df=np.float64(498.0))"
            ]
          },
          "execution_count": 9,
          "metadata": {},
          "output_type": "execute_result"
        }
      ],
      "source": [
        "# a função retorna uma tupla. O primeiro valor é o valor do t e o segundo é o p-value\n",
        "\n",
        "ttest_ind(df[df['grupo'] == 0]['escore'], df[df['grupo'] == 1]['escore'])"
      ]
    },
    {
      "cell_type": "code",
      "execution_count": 10,
      "metadata": {
        "id": "wGJgCZStdZeO"
      },
      "outputs": [],
      "source": [
        "#organizando a tupla para denominar cada um dos valores\n",
        "\n",
        "t, pvalue = ttest_ind(df[df['grupo'] == 0]['escore'], df[df['grupo'] == 1]['escore'])"
      ]
    },
    {
      "cell_type": "code",
      "execution_count": 11,
      "metadata": {
        "colab": {
          "base_uri": "https://localhost:8080/"
        },
        "id": "VJ6IpPJLFDSF",
        "outputId": "5b238b20-ec25-43be-f731-3af66df4e204"
      },
      "outputs": [
        {
          "name": "stdout",
          "output_type": "stream",
          "text": [
            "stat=-0.917, p=0.360\n"
          ]
        }
      ],
      "source": [
        "print('stat=%.3f, p=%.3f' % (t, pvalue))"
      ]
    },
    {
      "cell_type": "markdown",
      "metadata": {
        "id": "8Hz7v-KqFfWs"
      },
      "source": [
        "O nosso p-valor aqui foi de aproximadamente 0.36.\n",
        "\n",
        "Estabelecendo o nível de significância como 5%, como p > 0,05, não temos evidencias suficientes para rejeitar a hipótese nula. Logo, dizemos que estatatisticamente as médias são iguais.\n"
      ]
    },
    {
      "cell_type": "markdown",
      "metadata": {
        "id": "ePdpfaRzLqzS"
      },
      "source": [
        "# Sumário\n",
        "\n",
        "\n",
        "#### Testes de Hipóteses:\n",
        "\n",
        "1. **Teste T para amostras independentes e desvio padrao desconhecido:**\n",
        "\n",
        "\n",
        "- Cálculo do t-score e p_value (respectivamente):\n",
        "\n",
        "  ```python\n",
        "  t, pvalue = ttest_ind(valores_amostra_1, valores_amostra_1)\n",
        "  ```\n",
        "\n",
        "2. **Formatação de String:**\n",
        "\n",
        "   ```python\n",
        "   print('nome_1=%.3f, nome_2=%.3f' % (variavel_1, variavel_2))\n",
        "   ```\n",
        "- String de formatação: 'nome_1=%.3f, nome_2=%.3f' é uma string que contém texto literal e marcadores de posição para valores numéricos. Os marcadores de posição %.3f são substituídos pelos valores de t e pvalue.\n",
        "\n",
        "- Operador %: O operador % é utilizado para formatar a string, substituindo os marcadores de posição pelos valores correspondentes de variavel_1 e variavel_2.\n",
        "\n",
        "- .3f : determina a quantidade de casas decimais que queremos que apareça no resultado e que o valor será formatado como ponto flutuante (float)."
      ]
    },
    {
      "cell_type": "code",
      "execution_count": 15,
      "metadata": {
        "id": "pIIS7VXnpJG-"
      },
      "outputs": [],
      "source": []
    }
  ],
  "metadata": {
    "colab": {
      "provenance": []
    },
    "kernelspec": {
      "display_name": ".venv",
      "language": "python",
      "name": "python3"
    },
    "language_info": {
      "codemirror_mode": {
        "name": "ipython",
        "version": 3
      },
      "file_extension": ".py",
      "mimetype": "text/x-python",
      "name": "python",
      "nbconvert_exporter": "python",
      "pygments_lexer": "ipython3",
      "version": "3.10.11"
    }
  },
  "nbformat": 4,
  "nbformat_minor": 0
}
